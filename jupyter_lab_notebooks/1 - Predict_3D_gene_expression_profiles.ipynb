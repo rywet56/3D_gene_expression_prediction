{
 "cells": [
  {
   "cell_type": "code",
   "execution_count": 1,
   "id": "c03597f6-5828-4037-a316-9a2090ca9955",
   "metadata": {},
   "outputs": [],
   "source": [
    "import os\n",
    "import sys\n",
    "import importlib\n",
    "import numpy as np\n",
    "import pandas as pd\n",
    "base_dir=\"/home/jovyan/storage\"\n",
    "os.chdir(base_dir)\n",
    "sys.path.append(base_dir + \"/source\")\n",
    "import expression_prediction.spatial_gene_expression_prediction as gep"
   ]
  },
  {
   "cell_type": "code",
   "execution_count": 18,
   "id": "978f6813-44f7-4a68-b2ce-d475f48d73d5",
   "metadata": {},
   "outputs": [
    {
     "data": {
      "text/plain": [
       "<module 'expression_prediction.spatial_gene_expression_prediction' from '/home/jovyan/storage/source/expression_prediction/spatial_gene_expression_prediction.py'>"
      ]
     },
     "execution_count": 18,
     "metadata": {},
     "output_type": "execute_result"
    }
   ],
   "source": [
    "importlib.reload(gep)"
   ]
  },
  {
   "cell_type": "code",
   "execution_count": 2,
   "id": "7a81f1cb-6493-4913-815e-35d92b3ac7d1",
   "metadata": {},
   "outputs": [],
   "source": [
    "# path to scRNA-seq DGE\n",
    "dge_path = base_dir + \"/data/dge_day4_Oct-Nofilter_downsize.csv\"\n",
    "# path to spatial reference expression matrix\n",
    "coord_path = base_dir + \"/data/confocal_states0-FilterWUSCLVtop100.csv\"\n",
    "# path to fold where output should be stored\n",
    "out_base_path = base_dir + \"/data\""
   ]
  },
  {
   "cell_type": "markdown",
   "id": "6787975a-4d89-47b1-a929-7998765d1616",
   "metadata": {},
   "source": [
    "## [A] Set the parameters\n",
    "Before we load any data and start pre-processing it, we first have to set the parameters that we want to be applied in the prediction of 3D gene expression profiles."
   ]
  },
  {
   "cell_type": "code",
   "execution_count": 3,
   "id": "64923dbc-b63c-4ecb-b55d-51a4a70ed914",
   "metadata": {},
   "outputs": [],
   "source": [
    "# General Parameters\n",
    "verbose=True\n",
    "keep_genes=[\"AT2G17950\", \"AT2G27250\"] # enforce keeping those genes in scRNA-seq DGE\n",
    "genes_remove_list=[] # list of genes to be removed form spatial reference dataset\n",
    "# pre_mode = \"cell_mapping\" # the prediction mode\n",
    "pre_mode = \"expr_pre\"\n",
    "\n",
    "# Core Parameters\n",
    "ns=4 # num_neighbors_source\n",
    "nt=4 # num_neighbors_target\n",
    "ap=0.1 # alpha\n",
    "ep=0.05 # epsilon\n",
    "tr=\"none\" # transform\n",
    "md=\"euclidean\" # method_dist\n",
    "ts=50 # top_sccells\n",
    "tc=100 # top_cor_genes\n",
    "mi=5000 # max_iter\n",
    "to=1e-9 # tol\n",
    "ms=50 # min_sccells_gene_expressed\n",
    "ce=False # cell_enrichment"
   ]
  },
  {
   "cell_type": "markdown",
   "id": "7ebbbd33-7243-416e-a8f6-e846b647ab56",
   "metadata": {},
   "source": [
    "## [B] Load the data"
   ]
  },
  {
   "cell_type": "markdown",
   "id": "5ff21f5a-7373-48bb-bc85-3e9b768a45f5",
   "metadata": {},
   "source": [
    "#### 1 - Load the scRNA-seq dataset\n",
    "First we have to load the scRNA-seq DGE. The function returns the DGE with the dimension (genes x cells) together with the names of genes."
   ]
  },
  {
   "cell_type": "code",
   "execution_count": 4,
   "id": "549cac31-8087-4be5-b38a-d9efc5496008",
   "metadata": {},
   "outputs": [],
   "source": [
    "dge, gene_names, cell_ids = gep.load_scDGE(dge_path=dge_path)"
   ]
  },
  {
   "cell_type": "code",
   "execution_count": 56,
   "id": "4d3ff197-ea92-4692-addd-a9f469481ba1",
   "metadata": {},
   "outputs": [],
   "source": [
    "# Do Not Execute\n",
    "# import copy\n",
    "# dge_cp = copy.deepcopy(dge)\n",
    "# gene_names_cp = copy.deepcopy(gene_names)\n",
    "# cell_ids_cp = copy.deepcopy(cell_ids)"
   ]
  },
  {
   "cell_type": "code",
   "execution_count": 65,
   "id": "b7bbafdc-b8b5-4880-9836-7178229fe3be",
   "metadata": {},
   "outputs": [],
   "source": [
    "# Do Not Execute\n",
    "# dge = dge_cp"
   ]
  },
  {
   "cell_type": "markdown",
   "id": "b8e3a263-854e-426a-a6bc-9cacae22b987",
   "metadata": {},
   "source": [
    "#### 2 - Load the spatial expression dataset\n",
    "We also have to load the spatial expression dataset, containing the 3D expression profiles of our reference genes for all cells. The returned matrix has dimension (cells x coordinates + genes). "
   ]
  },
  {
   "cell_type": "code",
   "execution_count": 5,
   "id": "1e73a5cc-67c8-4eaa-9baa-f813794285f1",
   "metadata": {},
   "outputs": [],
   "source": [
    "sem = gep.load_spatial_expression_matrix(coord_path=coord_path)"
   ]
  },
  {
   "cell_type": "markdown",
   "id": "171fd7cd-9f00-4896-9cc5-055129c0e567",
   "metadata": {},
   "source": [
    "## [C] Quick-start 3D expression prediction\n",
    "3D gene expression profiles and mappings of cells between the scRNA-seq DGE and the spatial reference dataset can be obtained with only one function call, respectively. This is the easiest way to go about the analysis since all intermediate steps are not shown.  \n",
    "The use of those functions is shown in this chapter.  \n",
    "For users that want to understand the details of the analysis pipeline and wish to modify individual steps, can follow the content of section D)."
   ]
  },
  {
   "cell_type": "markdown",
   "id": "5214d3c4-c9a7-425c-bc18-e935464de8a0",
   "metadata": {},
   "source": [
    "#### 1 - Predict 3D gene expression profiles"
   ]
  },
  {
   "cell_type": "code",
   "execution_count": 6,
   "id": "16ea39fd-213a-49cc-bb0a-db1c6a30f3de",
   "metadata": {},
   "outputs": [
    {
     "name": "stdout",
     "output_type": "stream",
     "text": [
      "no enrichment\n",
      "529\n",
      "Setting up for reconstruction ... done ( 0.83 seconds )\n",
      "It.  |Err         \n",
      "-------------------\n",
      "    0|8.469096e-05|\n"
     ]
    }
   ],
   "source": [
    "sdge = gep.predict_3D_gene_expression(\n",
    "                              min_sccells_gene_expressed=ms, keep_genes=keep_genes, genes_remove_list=genes_remove_list,\n",
    "                              method_dist=md, top_sccells=ts, enrich=ce,\n",
    "                              num_neighbors_target=nt, num_neighbors_source=ns, top_cor_genes=tc,\n",
    "                              transform=tr, alpha=ap, epsilon=ep, max_iter=mi, tol=to, verbose=verbose,\n",
    "                              dge=dge, gene_names=gene_names, sem=sem)"
   ]
  },
  {
   "cell_type": "markdown",
   "id": "836ed634-dbe8-4add-97d8-941adabb760e",
   "metadata": {},
   "source": [
    "#### 2 - Predict cell-to-cell mappings"
   ]
  },
  {
   "cell_type": "code",
   "execution_count": 7,
   "id": "84642010-75ac-44a9-a02c-9f23504e213b",
   "metadata": {},
   "outputs": [
    {
     "name": "stdout",
     "output_type": "stream",
     "text": [
      "no enrichment\n",
      "529\n",
      "Setting up for reconstruction ... done ( 2.01 seconds )\n",
      "It.  |Err         \n",
      "-------------------\n",
      "    0|4.644337e-05|\n"
     ]
    }
   ],
   "source": [
    "gw = gep.predict_cell_mappings(\n",
    "                              min_sccells_gene_expressed=ms, keep_genes=keep_genes, genes_remove_list=genes_remove_list,\n",
    "                              method_dist=md, top_sccells=ts, enrich=ce,\n",
    "                              num_neighbors_target=nt, num_neighbors_source=ns, top_cor_genes=tc,\n",
    "                              transform=tr, alpha=ap, epsilon=ep, max_iter=mi, tol=to, verbose=verbose,\n",
    "                              dge=dge, gene_names=gene_names, cell_ids=cell_ids, sem=sem)"
   ]
  },
  {
   "cell_type": "markdown",
   "id": "0e368fb3-625a-4a73-bd68-621a6ea366b7",
   "metadata": {},
   "source": [
    "## [D] step-by-step warlkthrough of workflow"
   ]
  },
  {
   "cell_type": "markdown",
   "id": "5311885b-6f93-46dc-80ea-2b75820ff528",
   "metadata": {},
   "source": [
    "#### 1 - Pre-process the scRNA-seq DGE\n",
    "Next we process the DGE. In particular, each gene has to be expressed in at least \"min_sccells_gene_expressed\". This pre_process function can be provided with a list of genes \"keep_genes\" that should be forced to be kept in the scRNA-seq DGE eventhough they might be removed. Enforcing this might be necessary if gene expression profiles in 3D should be predicted for genes despite them not passing the quality control.  \n",
    "The returned \"dge\" has now dimension (cells x genes).  \n",
    "The function call also returns the names of genes that pass the quality control step.  \n",
    "The user may replace this step with any other pre-processing, if desired. "
   ]
  },
  {
   "cell_type": "code",
   "execution_count": 58,
   "id": "b8dbbf1d-4fe6-4a49-9d6b-741fcd1016dd",
   "metadata": {},
   "outputs": [],
   "source": [
    "dge, genes_name_keep = gep.pre_process_scDGE(dge, gene_names=gene_names, min_sccells_gene_expressed=ms, keep_genes=keep_genes)"
   ]
  },
  {
   "cell_type": "markdown",
   "id": "360d334a-d618-43e2-a5a8-fdb0746d0fd2",
   "metadata": {},
   "source": [
    "#### 2 - Pre-process the spatial expression dataset\n",
    "We also perform some pre-processing steps for the spatial expression dataset. This mainly includes subsetting the spatail dataset to only contain reference genes that are also present in the scRNA-seq DGE. The user may indicate which reference genes should be removed from the spatial reference dataset with the argument \"genes_remove_list\". This may be used to test the effect of refernce rene removal on prediction performance in a high-throughput manner.\n",
    "In this case, we do not remove any reference genes since we want to use all information to learn a reconstruction of 3D gene expression profiles."
   ]
  },
  {
   "cell_type": "code",
   "execution_count": 59,
   "id": "52ee2536-0668-4e62-b3db-2f532f1b5e3c",
   "metadata": {},
   "outputs": [],
   "source": [
    "insitu_matrix, coord, sel_genes = gep.pre_process_spatial_expression_matrix(sem=sem, genes_name_keep=genes_name_keep, \n",
    "                                                                        genes_remove_list=genes_remove_list)"
   ]
  },
  {
   "cell_type": "markdown",
   "id": "9362b710-e34f-4242-84b9-c98a2c4ffade",
   "metadata": {},
   "source": [
    "Now that we have pre-processed both input datasets, we have to find at which indexis (columns) in the scRNA-seq DGE the reference genes are located. This information is necessary since we will be using those indexis to subset the scRNA-seq DGE throughout this tutorial for different purposes. "
   ]
  },
  {
   "cell_type": "code",
   "execution_count": 60,
   "id": "9fe10ff3-3232-460e-b024-a0bc9c0f7203",
   "metadata": {},
   "outputs": [],
   "source": [
    "index_genes = gep.get_idx_ref_genes_in_scDGE(dge=dge, genes_name_keep=genes_name_keep, sel_genes=sel_genes)"
   ]
  },
  {
   "cell_type": "markdown",
   "id": "f19b50fb-9d52-4cbe-8154-b6dae67657b4",
   "metadata": {},
   "source": [
    "#### 3 - Find (and enrich) scRNA-seq cells\n",
    "Before we can go on to the reconstruction, we have to find most \"optimal\" cells for the spatial expression reconstruction. The goal of this step is to ensure that the spatial expression dataset (= insitu_matrix) and scRNA-seq expression dataset (= dge) contain similar cells.  \n",
    "In this step, cell-to-cell distances between all cells of the two datasets is calculated using the distance measure specified with \"method_dist\". For each cell in the spatial expression dataset, the top \"top_sccells\" cells are found. If \"enrich\" is set to \"True\", those cells are returned. If \"enrich\" is set to \"False\", only a unique set of cells is returned without some cells being potentially occuring multliple times (being enriched).  \n",
    "This step may not be necessary for all datasets. We have found that pre-selecting \"optimal\" cells in the scRNA-seq datsaet improves the reconstruction in the case of the dataset used here."
   ]
  },
  {
   "cell_type": "code",
   "execution_count": 61,
   "id": "c14d16b2-5f91-422e-ac98-80d9a972f532",
   "metadata": {},
   "outputs": [
    {
     "name": "stdout",
     "output_type": "stream",
     "text": [
      "no enrichment\n",
      "675\n"
     ]
    }
   ],
   "source": [
    "topcells = gep.get_best_cells(dge=dge, index_genes=index_genes, insitu_matrix=insitu_matrix,\n",
    "                              method_dist=md, top_sccells=ts, enrich=ce)"
   ]
  },
  {
   "cell_type": "markdown",
   "id": "46177b1b-5308-4846-aab3-90e72ee73905",
   "metadata": {},
   "source": [
    "#### 4 - Find informative features in scRNA-seq DGE\n",
    "The calculation of cost matrices (more details below), needed for the novosparc-based Optimal Transport calculation, benefits from using genes in the scRNA-seq DGE that are most informative of the cell/tissue types present in this dataset. There are several ways to obtain a list of informative genes such finding most highly variables genes. We found that retainiing genes that are most highly correlated gave best results with data provided here.  \n",
    "The user may use another strategy to select informative genes."
   ]
  },
  {
   "cell_type": "code",
   "execution_count": 62,
   "id": "51c14493-0a23-4659-b01a-fe845f685d16",
   "metadata": {},
   "outputs": [
    {
     "name": "stderr",
     "output_type": "stream",
     "text": [
      "/opt/conda/lib/python3.9/site-packages/numpy/lib/function_base.py:2642: RuntimeWarning: invalid value encountered in true_divide\n",
      "  c /= stddev[:, None]\n",
      "/opt/conda/lib/python3.9/site-packages/numpy/lib/function_base.py:2643: RuntimeWarning: invalid value encountered in true_divide\n",
      "  c /= stddev[None, :]\n"
     ]
    }
   ],
   "source": [
    "dge_hvg = gep.subset_dge_to_informative_features(dge=dge, topcells=topcells, sel_genes=sel_genes, genes_name_keep=genes_name_keep, \n",
    "                                             top_cor_genes=tc, pre_mode=pre_mode)"
   ]
  },
  {
   "cell_type": "code",
   "execution_count": 24,
   "id": "1c17d979-e31e-4434-b278-fa9a7a2dad3b",
   "metadata": {},
   "outputs": [
    {
     "name": "stdout",
     "output_type": "stream",
     "text": [
      "(675, 1845)\n"
     ]
    }
   ],
   "source": [
    "print(dge_hvg.shape)"
   ]
  },
  {
   "cell_type": "markdown",
   "id": "9f08a435-f577-4dcd-9065-b6de5404f3cd",
   "metadata": {},
   "source": [
    "#### 5 - Calculate cost-matrices between cells\n",
    "The novosparc-based Optimal Transport (OT) tries to find mappings between cells in the spatial expression dataset that are defined by their location to one another and cells in the scRNA-seq expression dataset that are defined by the their location in a high-dimensional gene expression space. In order for novosparc to find those mappings, we have describe the cells in both datset by their cell-to-cell distances. This information is captured in the matrix \"cost_expression\", containig the distances of between cells in the scRNA-seq dataset and the matrix \"cost_locations\", containing the distances of between cells in the saptial reference dataset based on their physical location.  \n",
    "The matrix \"cost_expression\" has the dimension (no_scRNA-seq_cells x no_scRNA-seq_cells), the matrix \"cost_locations\" has the dimension (no_spatial_cells x no_spatial_cells)."
   ]
  },
  {
   "cell_type": "code",
   "execution_count": 63,
   "id": "82cd6f22-8639-4039-b59c-8090077740eb",
   "metadata": {},
   "outputs": [
    {
     "name": "stdout",
     "output_type": "stream",
     "text": [
      "Setting up for reconstruction ... done ( 0.88 seconds )\n"
     ]
    }
   ],
   "source": [
    "cost_expression, cost_locations = gep.get_expression_location_cost(dge_hvg=dge_hvg, coord=coord, ns=ns, nt=nt)"
   ]
  },
  {
   "cell_type": "code",
   "execution_count": 26,
   "id": "fca810c1-b265-4289-aa81-7e9c8354a526",
   "metadata": {},
   "outputs": [
    {
     "name": "stdout",
     "output_type": "stream",
     "text": [
      "(675, 675)\n",
      "(1331, 1331)\n"
     ]
    }
   ],
   "source": [
    "print(cost_expression.shape)\n",
    "print(cost_locations.shape)"
   ]
  },
  {
   "cell_type": "markdown",
   "id": "e91bf539-01b1-4671-9249-65ce25d9d8a7",
   "metadata": {},
   "source": [
    "#### 6 - Calculate cost-matrices between reference genes\n",
    "If spatial expression profiles of reference genes (= insitu_matrix) is available, this information can be used to significantly improve the reconstruction of spatial gene expression profiles.  \n",
    "To benefit from this information, inter-dataset distances between cells are calculated based on the expression of a set of reference genes. In the dataset used here, 23 reference are used.  \n",
    "Using the information provided by the expression of spatial marker genes is strongly reccommneded, but novosparc (and therefore the wrapper functions in this tutorial) can also be used without such data."
   ]
  },
  {
   "cell_type": "code",
   "execution_count": 64,
   "id": "044af4af-3b78-4ecb-a15f-550b931f40ac",
   "metadata": {},
   "outputs": [],
   "source": [
    "cost_marker_genes = gep.get_marker_gene_cost(dge=dge, insitu_matrix=insitu_matrix, pre_mode=pre_mode, method_dist=md,\n",
    "                                         tr=tr, index_genes=index_genes, topcells=topcells)"
   ]
  },
  {
   "cell_type": "code",
   "execution_count": 29,
   "id": "613025bd-47a7-4626-84c8-26e70df09728",
   "metadata": {},
   "outputs": [
    {
     "name": "stdout",
     "output_type": "stream",
     "text": [
      "(675, 1331)\n"
     ]
    }
   ],
   "source": [
    "print(cost_marker_genes.shape)"
   ]
  },
  {
   "cell_type": "markdown",
   "id": "18d19af1-06ff-41b3-9d54-832c9d1fc915",
   "metadata": {},
   "source": [
    "#### 7 - Calculate (uniform) distribution over cells\n",
    "OT tries to map information from one distribution (e.g. physical space) to another distribution (e.g. gene expression space). For that OT needs to not only know intra-dataset distances of (in this application) cells, but also knowledge about the distribution themselves. The distributions above cells in both the scRNa-seq and spatial reference dataset are calculated in this step.  \n",
    "The cells distribution over those cells is uniform."
   ]
  },
  {
   "cell_type": "code",
   "execution_count": 31,
   "id": "aa83d1ee-623a-4c8f-a400-d79f26778928",
   "metadata": {},
   "outputs": [],
   "source": [
    "p_locations, p_expression = gep.get_distributions_over_expression_location(dge_hvg=dge_hvg, coord=coord)"
   ]
  },
  {
   "cell_type": "markdown",
   "id": "cd60b776-64c4-4196-b83e-202e9e862630",
   "metadata": {},
   "source": [
    "#### 8 - Predict cell-to-cell mappings\n",
    "The core functinality of novosparc is to find mappings between cells in the scRNA-seq and spatial expression dataset. We have to provide the cost matrices and distribution above cells that we just calculated.  \n",
    "The ouput of this function is a matrix of the dimension (scRNA-seq_cells x spatial_cells).  \n",
    "\n",
    "If we set \"pre_mode\" to \"cell_mapping\", the returned matrix will contain mappings of all cells in the scRNA-seq dataset to cells in the spatial expression datset. If on the other hand, we set \"pre_mode\" to \"expr_pre\", the returned matrix only contains mappings of selected (and enriched if specified) cells from the scRNA-seq dataset to cells in the spatial expression datset.  \n",
    "Both cell-cell-mapping matrices can be used to reconstruct 3D gene expression patterns, but we reccommend to use the mode \"pre_mode\" if the primary goal is to predict 3D gene expression patterns. This improves the prediction performance of 3D gene expression profiels. If the main purpose is to find cell-to-cell mappings, we reccomend to use the mode \"cell_mapping\" since all cells in the scRNA-seq matrix are mapped to cells in the spatial expression matrix."
   ]
  },
  {
   "cell_type": "code",
   "execution_count": 32,
   "id": "4f2b5e0a-2609-4cec-881b-94ed0b0ab5a9",
   "metadata": {},
   "outputs": [
    {
     "name": "stdout",
     "output_type": "stream",
     "text": [
      "It.  |Err         \n",
      "-------------------\n",
      "    0|7.124678e-05|\n"
     ]
    }
   ],
   "source": [
    "gw = gep.predict_cell_to_cell_mappings(cost_marker_genes=cost_marker_genes, cost_expression=cost_expression, \n",
    "                              cost_locations=cost_locations, p_expression=p_expression, p_locations=p_locations, \n",
    "                            alpha=ap, epsilon=ep, max_iter=mi, tol=to, verbose=verbose)"
   ]
  },
  {
   "cell_type": "code",
   "execution_count": 33,
   "id": "93e88bcb-b35e-465c-ab61-ceb49b84a4ad",
   "metadata": {},
   "outputs": [
    {
     "name": "stdout",
     "output_type": "stream",
     "text": [
      "(675, 1331)\n"
     ]
    }
   ],
   "source": [
    "print(gw.shape)"
   ]
  },
  {
   "cell_type": "markdown",
   "id": "e0cd6943-e31a-43e4-a26b-3b61c72f92e5",
   "metadata": {},
   "source": [
    "#### 9 - Predict 3D gene expresssion patterns\n",
    "With the information about cell-to-cell mappings between the spatial and scRNA-seq dataset, we can now reconstruct the 3D gene expression profiles of all genes in the scRNA-seq dataset (= dge)."
   ]
  },
  {
   "cell_type": "code",
   "execution_count": 41,
   "id": "e056bd5d-c3d0-44a1-9587-6d719b378e95",
   "metadata": {},
   "outputs": [],
   "source": [
    "sdge = gep.predict_spatial_gene_expression(gw=gw, dge=dge, topcells=topcells, pre_mode=pre_mode)"
   ]
  },
  {
   "cell_type": "code",
   "execution_count": 35,
   "id": "a8ad79a7-4888-45d6-8eab-2bb8cf5b2e2e",
   "metadata": {},
   "outputs": [
    {
     "name": "stdout",
     "output_type": "stream",
     "text": [
      "(15999, 1331)\n"
     ]
    }
   ],
   "source": [
    "print(sdge.shape)"
   ]
  },
  {
   "cell_type": "markdown",
   "id": "a07649da-ae4d-435e-a20c-c2f7297cb557",
   "metadata": {},
   "source": [
    "#### 10 - Prepare output\n",
    "Lastly we add back information about cell ids and gene names from the scRNA-seq DGE"
   ]
  },
  {
   "cell_type": "code",
   "execution_count": 42,
   "id": "dff52f8c-ca66-44e8-88d4-dc47035edcf4",
   "metadata": {},
   "outputs": [],
   "source": [
    "# prepare spatial expression matrix\n",
    "sdge = np.transpose(sdge)\n",
    "sdge = np.concatenate((coord, sdge), axis=1)\n",
    "col_names = np.concatenate((np.array([\"x\", \"y\", \"z\"]), genes_name_keep), axis=0)\n",
    "sdge = round(pd.DataFrame(sdge, columns=col_names), 3)"
   ]
  },
  {
   "cell_type": "code",
   "execution_count": 47,
   "id": "b311042c-09a7-4207-b127-be922284b103",
   "metadata": {},
   "outputs": [
    {
     "data": {
      "text/html": [
       "<div>\n",
       "<style scoped>\n",
       "    .dataframe tbody tr th:only-of-type {\n",
       "        vertical-align: middle;\n",
       "    }\n",
       "\n",
       "    .dataframe tbody tr th {\n",
       "        vertical-align: top;\n",
       "    }\n",
       "\n",
       "    .dataframe thead th {\n",
       "        text-align: right;\n",
       "    }\n",
       "</style>\n",
       "<table border=\"1\" class=\"dataframe\">\n",
       "  <thead>\n",
       "    <tr style=\"text-align: right;\">\n",
       "      <th></th>\n",
       "      <th>x</th>\n",
       "      <th>y</th>\n",
       "      <th>z</th>\n",
       "      <th>AT1G01010</th>\n",
       "      <th>AT1G01020</th>\n",
       "      <th>AT1G01030</th>\n",
       "      <th>AT1G01040</th>\n",
       "      <th>AT1G01050</th>\n",
       "      <th>AT1G01080</th>\n",
       "      <th>AT1G01090</th>\n",
       "    </tr>\n",
       "  </thead>\n",
       "  <tbody>\n",
       "    <tr>\n",
       "      <th>0</th>\n",
       "      <td>90.261</td>\n",
       "      <td>67.545</td>\n",
       "      <td>5.049</td>\n",
       "      <td>2.381</td>\n",
       "      <td>125.437</td>\n",
       "      <td>26.942</td>\n",
       "      <td>215.486</td>\n",
       "      <td>52.688</td>\n",
       "      <td>67.026</td>\n",
       "      <td>73.650</td>\n",
       "    </tr>\n",
       "    <tr>\n",
       "      <th>1</th>\n",
       "      <td>58.430</td>\n",
       "      <td>97.106</td>\n",
       "      <td>5.191</td>\n",
       "      <td>2.432</td>\n",
       "      <td>125.554</td>\n",
       "      <td>27.233</td>\n",
       "      <td>215.333</td>\n",
       "      <td>52.492</td>\n",
       "      <td>67.382</td>\n",
       "      <td>74.413</td>\n",
       "    </tr>\n",
       "    <tr>\n",
       "      <th>2</th>\n",
       "      <td>47.912</td>\n",
       "      <td>72.668</td>\n",
       "      <td>5.500</td>\n",
       "      <td>2.279</td>\n",
       "      <td>124.683</td>\n",
       "      <td>26.518</td>\n",
       "      <td>214.431</td>\n",
       "      <td>52.627</td>\n",
       "      <td>65.792</td>\n",
       "      <td>72.829</td>\n",
       "    </tr>\n",
       "    <tr>\n",
       "      <th>3</th>\n",
       "      <td>58.578</td>\n",
       "      <td>88.082</td>\n",
       "      <td>5.723</td>\n",
       "      <td>2.418</td>\n",
       "      <td>125.280</td>\n",
       "      <td>26.851</td>\n",
       "      <td>214.612</td>\n",
       "      <td>52.482</td>\n",
       "      <td>66.651</td>\n",
       "      <td>73.546</td>\n",
       "    </tr>\n",
       "    <tr>\n",
       "      <th>4</th>\n",
       "      <td>53.924</td>\n",
       "      <td>63.700</td>\n",
       "      <td>5.233</td>\n",
       "      <td>2.307</td>\n",
       "      <td>124.313</td>\n",
       "      <td>26.486</td>\n",
       "      <td>214.338</td>\n",
       "      <td>52.848</td>\n",
       "      <td>65.549</td>\n",
       "      <td>72.272</td>\n",
       "    </tr>\n",
       "  </tbody>\n",
       "</table>\n",
       "</div>"
      ],
      "text/plain": [
       "        x       y      z  AT1G01010  AT1G01020  AT1G01030  AT1G01040  \\\n",
       "0  90.261  67.545  5.049      2.381    125.437     26.942    215.486   \n",
       "1  58.430  97.106  5.191      2.432    125.554     27.233    215.333   \n",
       "2  47.912  72.668  5.500      2.279    124.683     26.518    214.431   \n",
       "3  58.578  88.082  5.723      2.418    125.280     26.851    214.612   \n",
       "4  53.924  63.700  5.233      2.307    124.313     26.486    214.338   \n",
       "\n",
       "   AT1G01050  AT1G01080  AT1G01090  \n",
       "0     52.688     67.026     73.650  \n",
       "1     52.492     67.382     74.413  \n",
       "2     52.627     65.792     72.829  \n",
       "3     52.482     66.651     73.546  \n",
       "4     52.848     65.549     72.272  "
      ]
     },
     "execution_count": 47,
     "metadata": {},
     "output_type": "execute_result"
    }
   ],
   "source": [
    "sdge.iloc[0:5,0:10]"
   ]
  },
  {
   "cell_type": "code",
   "execution_count": 48,
   "id": "750533eb-11c9-4ee5-a293-359f99d2fc30",
   "metadata": {},
   "outputs": [],
   "source": [
    "# prepare cell-to-cell mapping matrix\n",
    "cell_ids_sel = cell_ids[topcells]\n",
    "gw = round(pd.DataFrame(gw, index=cell_ids_sel), 3)"
   ]
  },
  {
   "cell_type": "code",
   "execution_count": 49,
   "id": "4e68e89a-105c-4d58-8bd5-15851f776876",
   "metadata": {},
   "outputs": [
    {
     "data": {
      "text/html": [
       "<div>\n",
       "<style scoped>\n",
       "    .dataframe tbody tr th:only-of-type {\n",
       "        vertical-align: middle;\n",
       "    }\n",
       "\n",
       "    .dataframe tbody tr th {\n",
       "        vertical-align: top;\n",
       "    }\n",
       "\n",
       "    .dataframe thead th {\n",
       "        text-align: right;\n",
       "    }\n",
       "</style>\n",
       "<table border=\"1\" class=\"dataframe\">\n",
       "  <thead>\n",
       "    <tr style=\"text-align: right;\">\n",
       "      <th></th>\n",
       "      <th>0</th>\n",
       "      <th>1</th>\n",
       "      <th>2</th>\n",
       "      <th>3</th>\n",
       "      <th>4</th>\n",
       "      <th>5</th>\n",
       "      <th>6</th>\n",
       "      <th>7</th>\n",
       "      <th>8</th>\n",
       "      <th>9</th>\n",
       "    </tr>\n",
       "  </thead>\n",
       "  <tbody>\n",
       "    <tr>\n",
       "      <th>AAACGCTAGTGGTTCT.1</th>\n",
       "      <td>1.003</td>\n",
       "      <td>1.025</td>\n",
       "      <td>1.199</td>\n",
       "      <td>1.022</td>\n",
       "      <td>1.240</td>\n",
       "      <td>1.019</td>\n",
       "      <td>1.128</td>\n",
       "      <td>1.209</td>\n",
       "      <td>0.978</td>\n",
       "      <td>1.122</td>\n",
       "    </tr>\n",
       "    <tr>\n",
       "      <th>AAACGCTGTCGCTCGA.1</th>\n",
       "      <td>1.166</td>\n",
       "      <td>1.156</td>\n",
       "      <td>1.123</td>\n",
       "      <td>1.131</td>\n",
       "      <td>1.079</td>\n",
       "      <td>1.141</td>\n",
       "      <td>1.149</td>\n",
       "      <td>1.113</td>\n",
       "      <td>1.151</td>\n",
       "      <td>1.156</td>\n",
       "    </tr>\n",
       "    <tr>\n",
       "      <th>AAAGAACAGCAGTAAT.1</th>\n",
       "      <td>1.158</td>\n",
       "      <td>1.077</td>\n",
       "      <td>1.087</td>\n",
       "      <td>1.051</td>\n",
       "      <td>1.077</td>\n",
       "      <td>1.045</td>\n",
       "      <td>1.097</td>\n",
       "      <td>1.085</td>\n",
       "      <td>1.159</td>\n",
       "      <td>1.098</td>\n",
       "    </tr>\n",
       "    <tr>\n",
       "      <th>AAAGAACCAGCAGTAG.1</th>\n",
       "      <td>0.964</td>\n",
       "      <td>0.962</td>\n",
       "      <td>1.116</td>\n",
       "      <td>1.047</td>\n",
       "      <td>1.132</td>\n",
       "      <td>1.021</td>\n",
       "      <td>1.089</td>\n",
       "      <td>1.120</td>\n",
       "      <td>1.017</td>\n",
       "      <td>1.086</td>\n",
       "    </tr>\n",
       "    <tr>\n",
       "      <th>AAAGGGCTCCCATTCG.1</th>\n",
       "      <td>1.066</td>\n",
       "      <td>1.045</td>\n",
       "      <td>1.115</td>\n",
       "      <td>1.151</td>\n",
       "      <td>1.152</td>\n",
       "      <td>1.107</td>\n",
       "      <td>1.112</td>\n",
       "      <td>1.124</td>\n",
       "      <td>1.086</td>\n",
       "      <td>1.106</td>\n",
       "    </tr>\n",
       "  </tbody>\n",
       "</table>\n",
       "</div>"
      ],
      "text/plain": [
       "                        0      1      2      3      4      5      6      7  \\\n",
       "AAACGCTAGTGGTTCT.1  1.003  1.025  1.199  1.022  1.240  1.019  1.128  1.209   \n",
       "AAACGCTGTCGCTCGA.1  1.166  1.156  1.123  1.131  1.079  1.141  1.149  1.113   \n",
       "AAAGAACAGCAGTAAT.1  1.158  1.077  1.087  1.051  1.077  1.045  1.097  1.085   \n",
       "AAAGAACCAGCAGTAG.1  0.964  0.962  1.116  1.047  1.132  1.021  1.089  1.120   \n",
       "AAAGGGCTCCCATTCG.1  1.066  1.045  1.115  1.151  1.152  1.107  1.112  1.124   \n",
       "\n",
       "                        8      9  \n",
       "AAACGCTAGTGGTTCT.1  0.978  1.122  \n",
       "AAACGCTGTCGCTCGA.1  1.151  1.156  \n",
       "AAAGAACAGCAGTAAT.1  1.159  1.098  \n",
       "AAAGAACCAGCAGTAG.1  1.017  1.086  \n",
       "AAAGGGCTCCCATTCG.1  1.086  1.106  "
      ]
     },
     "execution_count": 49,
     "metadata": {},
     "output_type": "execute_result"
    }
   ],
   "source": [
    "gw.iloc[0:5,0:10]"
   ]
  },
  {
   "cell_type": "markdown",
   "id": "18873873-6d12-417a-9dcc-3f84772aa4bf",
   "metadata": {},
   "source": [
    "#### 11 - Save ouput\n",
    "In the last step we are going to save the generated data. This data will be used in another jupyter lab notbeook, in which we show how to visualize the predicted gene expression patterns.  "
   ]
  },
  {
   "cell_type": "code",
   "execution_count": 8,
   "id": "c3bad280-3621-4129-9b6d-97b7cf9cdf3d",
   "metadata": {},
   "outputs": [],
   "source": [
    "# save the cell-to-cell_mapping matrix\n",
    "gw.to_csv(out_base_path + \"/cell-to-cell_mapping.csv\", index=True, header=True, sep=',')"
   ]
  },
  {
   "cell_type": "code",
   "execution_count": 9,
   "id": "e45ea4f1-61ca-425c-8394-d6e142153817",
   "metadata": {},
   "outputs": [],
   "source": [
    "# save the predicted 3D gene expression profiles\n",
    "sdge.to_csv(out_base_path + \"/sdge.csv\", index=True, header=True, sep=',')"
   ]
  },
  {
   "cell_type": "code",
   "execution_count": null,
   "id": "811332e2-dbf6-4802-8fe9-0a809f5303f3",
   "metadata": {},
   "outputs": [],
   "source": []
  },
  {
   "cell_type": "markdown",
   "id": "01adc470-fa33-40d5-8a16-c2bc76165bc9",
   "metadata": {},
   "source": [
    "Notes:\n",
    "    - I have to add a paraemter that says which columns in the ref. dataset contains the coordinates\n",
    "    - when we calculate distances between cells to find the optimal cells, we always work with binary data even if we use distance measures that are for continuous data\n",
    "    - we invert dist_cells if it is euclidean. this does not make sense since we sort form small to big. So most dissimilar cells will get selected\n",
    "    "
   ]
  }
 ],
 "metadata": {
  "kernelspec": {
   "display_name": "Python 3 (ipykernel)",
   "language": "python",
   "name": "python3"
  },
  "language_info": {
   "codemirror_mode": {
    "name": "ipython",
    "version": 3
   },
   "file_extension": ".py",
   "mimetype": "text/x-python",
   "name": "python",
   "nbconvert_exporter": "python",
   "pygments_lexer": "ipython3",
   "version": "3.9.7"
  }
 },
 "nbformat": 4,
 "nbformat_minor": 5
}
