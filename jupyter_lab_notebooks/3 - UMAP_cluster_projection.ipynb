{
 "cells": [
  {
   "cell_type": "code",
   "execution_count": 1,
   "id": "4c5044c3-2147-43e4-8490-476bd784d99e",
   "metadata": {},
   "outputs": [],
   "source": [
    "base_path <- \"/home/jovyan/storage/data\"\n",
    "\n",
    "# get the cell meta-data\n",
    "path <- paste0(base_path, \"/seurat_cell_meta_data.csv\")\n",
    "cell_meta_data <- read.csv(file = path, row.names = 1)\n",
    "\n",
    "# load the cell-to-cell mapping matrix\n",
    "path <- paste0(base_path, \"/cell-to-cell_mapping.csv\")\n",
    "gw <- read.csv2(path, sep = \",\", dec = \".\", stringsAsFactors = FALSE, header = T, row.names = 1)\n",
    "rownames(gw) <- as.character(sapply(X = rownames(gw), FUN = function(x){strsplit(x = x, \".\", fixed=T)[[1]][1]}))\n",
    "\n",
    "# load the\n",
    "path <- paste0(base_path, \"/confocal_states0-FilterWUSCLVtop100.csv\")\n",
    "ref <- read.csv2(path, row.names = 1, sep = \",\")"
   ]
  },
  {
   "cell_type": "code",
   "execution_count": 2,
   "id": "0e573efc-1d92-4964-9204-d9381d60b8ed",
   "metadata": {},
   "outputs": [],
   "source": [
    "# normalize locations (confocal cells)\n",
    "gw1 <- gw/colSums(gw)  # make columns (physical cells) sum to 1"
   ]
  },
  {
   "cell_type": "code",
   "execution_count": 3,
   "id": "39690239-36ba-4ca4-b598-35d745a06119",
   "metadata": {},
   "outputs": [],
   "source": [
    "# create named vector mapping cells to clusters for scRNA-seq DGE\n",
    "meta <- as.character(cell_meta_data$cluster_annotation)\n",
    "names(meta) <- substr(cell_meta_data$cell_id, start = 1, stop = 16)"
   ]
  },
  {
   "cell_type": "code",
   "execution_count": 4,
   "id": "31b63a25-e212-44fe-aa1b-6248664a0cc6",
   "metadata": {},
   "outputs": [],
   "source": [
    "# obtain cluster numbers for cells in gw matrix\n",
    "MATCH <- match(rownames(gw), names(meta))\n",
    "cluster_numbers <- as.character(meta[MATCH])"
   ]
  },
  {
   "cell_type": "code",
   "execution_count": 5,
   "id": "2a34db51-f7a0-4285-8d63-6fea9f35ded9",
   "metadata": {},
   "outputs": [],
   "source": [
    "# summed probabilities over all cells in 3D meristem for all clusters\n",
    "prob_cluster_df <- NULL\n",
    "for(cluster in unique(cluster_numbers)){\n",
    "  gw_tmp <- gw1[cluster_numbers %in% cluster,]\n",
    "  prob_cluster_df <- cbind(prob_cluster_df, colSums(gw_tmp))\n",
    "}\n",
    "colnames(prob_cluster_df) <- unique(cluster_numbers)"
   ]
  },
  {
   "cell_type": "code",
   "execution_count": 6,
   "id": "2ee68b69-c029-460b-ad37-1921c3b17a97",
   "metadata": {},
   "outputs": [],
   "source": [
    "# add coordinates of cells\n",
    "prob_cluster_df <- data.frame(ref[,1:3], prob_cluster_df)"
   ]
  },
  {
   "cell_type": "code",
   "execution_count": 7,
   "id": "e72e42e5-f948-4882-a3f1-f51fef7490ab",
   "metadata": {},
   "outputs": [
    {
     "data": {
      "text/html": [
       "<table class=\"dataframe\">\n",
       "<caption>A data.frame: 4 × 5</caption>\n",
       "<thead>\n",
       "\t<tr><th></th><th scope=col>x</th><th scope=col>y</th><th scope=col>z</th><th scope=col>cluster_1___.pro..cambium</th><th scope=col>cluster_3___dividing.cells</th></tr>\n",
       "\t<tr><th></th><th scope=col>&lt;chr&gt;</th><th scope=col>&lt;chr&gt;</th><th scope=col>&lt;chr&gt;</th><th scope=col>&lt;dbl&gt;</th><th scope=col>&lt;dbl&gt;</th></tr>\n",
       "</thead>\n",
       "<tbody>\n",
       "\t<tr><th scope=row>50</th><td>90.261 </td><td>67.545 </td><td>5.04944</td><td>0.1344298</td><td>0.1050708</td></tr>\n",
       "\t<tr><th scope=row>51</th><td>58.4303</td><td>97.106 </td><td>5.19082</td><td>0.1312728</td><td>0.1064349</td></tr>\n",
       "\t<tr><th scope=row>52</th><td>47.9124</td><td>72.6678</td><td>5.50022</td><td>0.1427766</td><td>0.1053820</td></tr>\n",
       "\t<tr><th scope=row>53</th><td>58.578 </td><td>88.0824</td><td>5.7229 </td><td>0.1366340</td><td>0.1070309</td></tr>\n",
       "</tbody>\n",
       "</table>\n"
      ],
      "text/latex": [
       "A data.frame: 4 × 5\n",
       "\\begin{tabular}{r|lllll}\n",
       "  & x & y & z & cluster\\_1\\_\\_\\_.pro..cambium & cluster\\_3\\_\\_\\_dividing.cells\\\\\n",
       "  & <chr> & <chr> & <chr> & <dbl> & <dbl>\\\\\n",
       "\\hline\n",
       "\t50 & 90.261  & 67.545  & 5.04944 & 0.1344298 & 0.1050708\\\\\n",
       "\t51 & 58.4303 & 97.106  & 5.19082 & 0.1312728 & 0.1064349\\\\\n",
       "\t52 & 47.9124 & 72.6678 & 5.50022 & 0.1427766 & 0.1053820\\\\\n",
       "\t53 & 58.578  & 88.0824 & 5.7229  & 0.1366340 & 0.1070309\\\\\n",
       "\\end{tabular}\n"
      ],
      "text/markdown": [
       "\n",
       "A data.frame: 4 × 5\n",
       "\n",
       "| <!--/--> | x &lt;chr&gt; | y &lt;chr&gt; | z &lt;chr&gt; | cluster_1___.pro..cambium &lt;dbl&gt; | cluster_3___dividing.cells &lt;dbl&gt; |\n",
       "|---|---|---|---|---|---|\n",
       "| 50 | 90.261  | 67.545  | 5.04944 | 0.1344298 | 0.1050708 |\n",
       "| 51 | 58.4303 | 97.106  | 5.19082 | 0.1312728 | 0.1064349 |\n",
       "| 52 | 47.9124 | 72.6678 | 5.50022 | 0.1427766 | 0.1053820 |\n",
       "| 53 | 58.578  | 88.0824 | 5.7229  | 0.1366340 | 0.1070309 |\n",
       "\n"
      ],
      "text/plain": [
       "   x       y       z       cluster_1___.pro..cambium cluster_3___dividing.cells\n",
       "50 90.261  67.545  5.04944 0.1344298                 0.1050708                 \n",
       "51 58.4303 97.106  5.19082 0.1312728                 0.1064349                 \n",
       "52 47.9124 72.6678 5.50022 0.1427766                 0.1053820                 \n",
       "53 58.578  88.0824 5.7229  0.1366340                 0.1070309                 "
      ]
     },
     "metadata": {},
     "output_type": "display_data"
    }
   ],
   "source": [
    "prob_cluster_df[1:4,1:5]"
   ]
  },
  {
   "cell_type": "code",
   "execution_count": 8,
   "id": "ec328f53-be40-4576-b02d-8a8005e0d2a0",
   "metadata": {},
   "outputs": [],
   "source": [
    "# save the generated cluster projections\n",
    "path <- paste0(base_path, \"/cluster_assignment_3d.csv\")\n",
    "write.csv(x = prob_cluster_df, file = path)"
   ]
  }
 ],
 "metadata": {
  "kernelspec": {
   "display_name": "R",
   "language": "R",
   "name": "ir"
  },
  "language_info": {
   "codemirror_mode": "r",
   "file_extension": ".r",
   "mimetype": "text/x-r-source",
   "name": "R",
   "pygments_lexer": "r",
   "version": "4.2.0"
  }
 },
 "nbformat": 4,
 "nbformat_minor": 5
}
