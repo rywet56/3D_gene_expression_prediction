{
 "cells": [
  {
   "cell_type": "markdown",
   "id": "21b0ccc9-4769-4a3e-893f-027e4c2553e0",
   "metadata": {},
   "source": [
    "### 1 - Read in data\n",
    "We need the expression values for all cells of all genes in the scRNA-seq dataset. We also need to know which genes have been used in the spatial reference expression dataset. In the following we read in those two datasets."
   ]
  },
  {
   "cell_type": "code",
   "execution_count": 3,
   "id": "aa50179c-0e40-4f08-ab6b-12235a68666b",
   "metadata": {},
   "outputs": [],
   "source": [
    "base_dir <- \"/home/jovyan/storage\"\n",
    "\n",
    "# path to scRNA-seq DGE\n",
    "dge_path <- paste0(base_dir, \"/data/dge_day4_Oct-Nofilter_downsize.csv\")\n",
    "\n",
    "# path to spatial reference expression matrix\n",
    "coord_path <- paste0(base_dir, \"/data/confocal_states0-FilterWUSCLVtop100.csv\")\n",
    "\n",
    "# path to predict 3D gene expression profiles\n",
    "sdge_path <- paste0(base_dir, \"/data/sdge.csv\")\n",
    "\n",
    "# Load scRNA-seq dataset\n",
    "dge <- read.csv(file = dge_path, row.names=1)\n",
    "dge <- as.data.frame(t(dge))\n",
    "\n",
    "# Load spatial expression reference dataset\n",
    "ref <- as.matrix(read.csv(file = coord_path, row.names = 1, sep=\",\"))\n",
    "\n",
    "# Load predicted 3D gene expression profiles\n",
    "sdge <- read.csv(file = sdge_path, row.names = 1)"
   ]
  },
  {
   "cell_type": "markdown",
   "id": "c6b71b99-c6c3-4a8d-9cb3-a9d863fbfb42",
   "metadata": {},
   "source": [
    "### 2 - Calculate PEP-scores for genes in scRNA-seq datatset"
   ]
  },
  {
   "cell_type": "markdown",
   "id": "e6486186-d840-444b-babf-a1d33de5830a",
   "metadata": {},
   "source": [
    "First we obtain a correlation matrix that tells us how much each gene in the scRNA-seq dataset correlates with the genes in the spatial expression reference dataset. The resulting matrix has the dimension (scRNA-seq genes x reference genes)."
   ]
  },
  {
   "cell_type": "code",
   "execution_count": 4,
   "id": "62406311-f559-48a8-ab16-420222860bfa",
   "metadata": {},
   "outputs": [
    {
     "name": "stderr",
     "output_type": "stream",
     "text": [
      "Warning message in cor(x = dge, y = dge[, genes], method = \"spearman\"):\n",
      "“the standard deviation is zero”\n"
     ]
    },
    {
     "data": {
      "text/html": [
       "<style>\n",
       ".list-inline {list-style: none; margin:0; padding: 0}\n",
       ".list-inline>li {display: inline-block}\n",
       ".list-inline>li:not(:last-child)::after {content: \"\\00b7\"; padding: 0 .5ex}\n",
       "</style>\n",
       "<ol class=list-inline><li>19718</li><li>23</li></ol>\n"
      ],
      "text/latex": [
       "\\begin{enumerate*}\n",
       "\\item 19718\n",
       "\\item 23\n",
       "\\end{enumerate*}\n"
      ],
      "text/markdown": [
       "1. 19718\n",
       "2. 23\n",
       "\n",
       "\n"
      ],
      "text/plain": [
       "[1] 19718    23"
      ]
     },
     "metadata": {},
     "output_type": "display_data"
    }
   ],
   "source": [
    "genes <- intersect(colnames(dge), colnames(ref))\n",
    "co <- cor(x = dge, y = dge[, genes], method = 'spearman')\n",
    "dim(co)"
   ]
  },
  {
   "cell_type": "markdown",
   "id": "72649f53-f7eb-48c8-8ada-1d57eb703959",
   "metadata": {},
   "source": [
    "Next we find the reference gene that has the highest correlation for all genes in the scRNA-seq dataset and record the correlation value. This value represents the PEP-score.  \n",
    "The resulting data.frame contains the PEP-score for each gene in the scRNA-seq dataset as well as the reference gene that the correlation is based on."
   ]
  },
  {
   "cell_type": "code",
   "execution_count": 5,
   "id": "3f123a5a-eacd-4636-bb34-2930a24e1411",
   "metadata": {},
   "outputs": [
    {
     "data": {
      "text/html": [
       "<table class=\"dataframe\">\n",
       "<caption>A data.frame: 4 × 2</caption>\n",
       "<thead>\n",
       "\t<tr><th></th><th scope=col>PEP-score</th><th scope=col>top_cor_gene</th></tr>\n",
       "\t<tr><th></th><th scope=col>&lt;dbl&gt;</th><th scope=col>&lt;chr&gt;</th></tr>\n",
       "</thead>\n",
       "<tbody>\n",
       "\t<tr><th scope=row>AT1G01010</th><td>0.09</td><td>AT2G33860</td></tr>\n",
       "\t<tr><th scope=row>AT1G01020</th><td>0.05</td><td>AT2G27250</td></tr>\n",
       "\t<tr><th scope=row>AT1G01030</th><td>0.13</td><td>AT1G69120</td></tr>\n",
       "\t<tr><th scope=row>AT1G01040</th><td>0.10</td><td>AT1G62360</td></tr>\n",
       "</tbody>\n",
       "</table>\n"
      ],
      "text/latex": [
       "A data.frame: 4 × 2\n",
       "\\begin{tabular}{r|ll}\n",
       "  & PEP-score & top\\_cor\\_gene\\\\\n",
       "  & <dbl> & <chr>\\\\\n",
       "\\hline\n",
       "\tAT1G01010 & 0.09 & AT2G33860\\\\\n",
       "\tAT1G01020 & 0.05 & AT2G27250\\\\\n",
       "\tAT1G01030 & 0.13 & AT1G69120\\\\\n",
       "\tAT1G01040 & 0.10 & AT1G62360\\\\\n",
       "\\end{tabular}\n"
      ],
      "text/markdown": [
       "\n",
       "A data.frame: 4 × 2\n",
       "\n",
       "| <!--/--> | PEP-score &lt;dbl&gt; | top_cor_gene &lt;chr&gt; |\n",
       "|---|---|---|\n",
       "| AT1G01010 | 0.09 | AT2G33860 |\n",
       "| AT1G01020 | 0.05 | AT2G27250 |\n",
       "| AT1G01030 | 0.13 | AT1G69120 |\n",
       "| AT1G01040 | 0.10 | AT1G62360 |\n",
       "\n"
      ],
      "text/plain": [
       "          PEP-score top_cor_gene\n",
       "AT1G01010 0.09      AT2G33860   \n",
       "AT1G01020 0.05      AT2G27250   \n",
       "AT1G01030 0.13      AT1G69120   \n",
       "AT1G01040 0.10      AT1G62360   "
      ]
     },
     "metadata": {},
     "output_type": "display_data"
    }
   ],
   "source": [
    "# get top1 correlation for all genes with ref. genes\n",
    "cor_top1 <- NULL\n",
    "for(gen in rownames(co)){\n",
    "  if(gen %in% colnames(co)){\n",
    "      ord <- order(co[gen,], decreasing = TRUE)[2]\n",
    "  } else {\n",
    "      ord <- order(co[gen,], decreasing = TRUE)[1]\n",
    "  }\n",
    "  row <- c(as.numeric(co[gen, ord]), colnames(co)[ord])\n",
    "  cor_top1 <- rbind(cor_top1, row)\n",
    "}\n",
    "cor_top1_df <- as.data.frame(cor_top1)\n",
    "\n",
    "rownames(cor_top1_df) <- rownames(co); colnames(cor_top1_df) <- c('PEP-score', 'top_cor_gene')\n",
    "cor_top1_df$`PEP-score` <- round(as.numeric(cor_top1_df$`PEP-score`),2)\n",
    "cor_top1_df[1:4,]"
   ]
  },
  {
   "cell_type": "markdown",
   "id": "60bdaa40-50fa-43a5-a314-eb122a435ea0",
   "metadata": {},
   "source": [
    "### 3 - Interpretation of the PEP-score\n",
    "The PEP-score can be used as an approximation on how confident we are that the model we trained in the notebook \"1 - Predict_3D_gene_expression_profiles.ipynb\" can give us (biologically) reasonable results. Since the score is only based on the expression of genes in the scRNA-seq and not the parameters that we used for the predictions, the PEP-score can only be used as a rough approximation for the out-of-sample prediction performance.  \n",
    "The higher the PEP-score for a de novo 3D gene expression prediction, the more confident we are that the prediction makes sense biologically."
   ]
  },
  {
   "cell_type": "markdown",
   "id": "a0b51aa3-3f17-4469-befc-295ad610a5ee",
   "metadata": {},
   "source": [
    "### 4 - Connection to the AUCROC\n",
    "The prediction performance for.."
   ]
  },
  {
   "cell_type": "code",
   "execution_count": null,
   "id": "c1738d28-124d-4f43-90cd-26affc1bbc58",
   "metadata": {},
   "outputs": [],
   "source": []
  },
  {
   "cell_type": "code",
   "execution_count": 6,
   "id": "1b7dab4c-1863-48fb-aa1a-17e1a643aaaf",
   "metadata": {},
   "outputs": [
    {
     "name": "stderr",
     "output_type": "stream",
     "text": [
      "Installing package into ‘/home/jovyan/R/x86_64-pc-linux-gnu-library/4.2’\n",
      "(as ‘lib’ is unspecified)\n",
      "\n"
     ]
    }
   ],
   "source": [
    "install.packages(\"pROC\")"
   ]
  },
  {
   "cell_type": "code",
   "execution_count": 7,
   "id": "e35df86f-f1d3-4a86-b048-6083fbc45d77",
   "metadata": {},
   "outputs": [
    {
     "name": "stderr",
     "output_type": "stream",
     "text": [
      "Type 'citation(\"pROC\")' for a citation.\n",
      "\n",
      "\n",
      "Attaching package: ‘pROC’\n",
      "\n",
      "\n",
      "The following objects are masked from ‘package:stats’:\n",
      "\n",
      "    cov, smooth, var\n",
      "\n",
      "\n"
     ]
    }
   ],
   "source": [
    "library(pROC)"
   ]
  },
  {
   "cell_type": "code",
   "execution_count": 16,
   "id": "b6cf7025-296a-475c-987f-8f72d6270ab2",
   "metadata": {},
   "outputs": [],
   "source": [
    "calculate_AUC <- function(type=\"roc\", return_type = \"auc\", pre, ref){\n",
    "      defaultW <- getOption(\"warn\") \n",
    "      options(warn = -1) \n",
    "\n",
    "      auc_list <- NULL\n",
    "      genes_tair <- intersect(colnames(ref), colnames(pre))\n",
    "      for(gene_tair in genes_tair){\n",
    "        if(type == \"roc\"){\n",
    "            suppressMessages(\n",
    "              aucroc <- roc(as.numeric(ref[, gene_tair]), as.numeric(pre[, gene_tair]), plot=FALSE, legacy.axes=TRUE, direction = \"<\")\n",
    "            )\n",
    "          auc_list[[gene_tair]] <- aucroc$auc[1]\n",
    "        }else if(type == \"pr\"){\n",
    "            suppressMessages(\n",
    "              aucpr <- cvAUC::AUC(predictions=as.numeric(pre[, gene_tair]), labels=as.numeric(ref[, gene_tair]))\n",
    "            )\n",
    "          auc_list[[gene_symbol]] <- aucpr\n",
    "        }\n",
    "      }\n",
    "    options(warn = defaultW)\n",
    "    return(auc_list)\n",
    "}"
   ]
  },
  {
   "cell_type": "code",
   "execution_count": 10,
   "id": "10647c02-dd0a-45db-b71f-8ed65df8db8a",
   "metadata": {},
   "outputs": [
    {
     "data": {
      "text/html": [
       "<table class=\"dataframe\">\n",
       "<caption>A data.frame: 4 × 4</caption>\n",
       "<thead>\n",
       "\t<tr><th></th><th scope=col>x</th><th scope=col>y</th><th scope=col>z</th><th scope=col>AT1G01010</th></tr>\n",
       "\t<tr><th></th><th scope=col>&lt;dbl&gt;</th><th scope=col>&lt;dbl&gt;</th><th scope=col>&lt;dbl&gt;</th><th scope=col>&lt;dbl&gt;</th></tr>\n",
       "</thead>\n",
       "<tbody>\n",
       "\t<tr><th scope=row>0</th><td>90.261</td><td>67.545</td><td>5.049</td><td>2.381</td></tr>\n",
       "\t<tr><th scope=row>1</th><td>58.430</td><td>97.106</td><td>5.191</td><td>2.432</td></tr>\n",
       "\t<tr><th scope=row>2</th><td>47.912</td><td>72.668</td><td>5.500</td><td>2.279</td></tr>\n",
       "\t<tr><th scope=row>3</th><td>58.578</td><td>88.082</td><td>5.723</td><td>2.418</td></tr>\n",
       "</tbody>\n",
       "</table>\n"
      ],
      "text/latex": [
       "A data.frame: 4 × 4\n",
       "\\begin{tabular}{r|llll}\n",
       "  & x & y & z & AT1G01010\\\\\n",
       "  & <dbl> & <dbl> & <dbl> & <dbl>\\\\\n",
       "\\hline\n",
       "\t0 & 90.261 & 67.545 & 5.049 & 2.381\\\\\n",
       "\t1 & 58.430 & 97.106 & 5.191 & 2.432\\\\\n",
       "\t2 & 47.912 & 72.668 & 5.500 & 2.279\\\\\n",
       "\t3 & 58.578 & 88.082 & 5.723 & 2.418\\\\\n",
       "\\end{tabular}\n"
      ],
      "text/markdown": [
       "\n",
       "A data.frame: 4 × 4\n",
       "\n",
       "| <!--/--> | x &lt;dbl&gt; | y &lt;dbl&gt; | z &lt;dbl&gt; | AT1G01010 &lt;dbl&gt; |\n",
       "|---|---|---|---|---|\n",
       "| 0 | 90.261 | 67.545 | 5.049 | 2.381 |\n",
       "| 1 | 58.430 | 97.106 | 5.191 | 2.432 |\n",
       "| 2 | 47.912 | 72.668 | 5.500 | 2.279 |\n",
       "| 3 | 58.578 | 88.082 | 5.723 | 2.418 |\n",
       "\n"
      ],
      "text/plain": [
       "  x      y      z     AT1G01010\n",
       "0 90.261 67.545 5.049 2.381    \n",
       "1 58.430 97.106 5.191 2.432    \n",
       "2 47.912 72.668 5.500 2.279    \n",
       "3 58.578 88.082 5.723 2.418    "
      ]
     },
     "metadata": {},
     "output_type": "display_data"
    }
   ],
   "source": [
    "sdge[1:4,1:4]"
   ]
  },
  {
   "cell_type": "code",
   "execution_count": 18,
   "id": "e2f3bd42-3075-48eb-afc6-ac5fe3ab8892",
   "metadata": {},
   "outputs": [],
   "source": [
    "auc <- calculate_AUC(pre = sdge, ref = ref)\n",
    "auc <- data.frame(auc)\n",
    "auc <- as.data.frame(t(auc))"
   ]
  },
  {
   "cell_type": "code",
   "execution_count": 19,
   "id": "90e8c895-e0fe-499d-8f49-145789f9a1ad",
   "metadata": {},
   "outputs": [
    {
     "data": {
      "text/html": [
       "<table class=\"dataframe\">\n",
       "<caption>A data.frame: 26 × 1</caption>\n",
       "<thead>\n",
       "\t<tr><th></th><th scope=col>V1</th></tr>\n",
       "\t<tr><th></th><th scope=col>&lt;dbl&gt;</th></tr>\n",
       "</thead>\n",
       "<tbody>\n",
       "\t<tr><th scope=row>x</th><td>1.0000000</td></tr>\n",
       "\t<tr><th scope=row>y</th><td>1.0000000</td></tr>\n",
       "\t<tr><th scope=row>z</th><td>1.0000000</td></tr>\n",
       "\t<tr><th scope=row>AT1G19850</th><td>1.0000000</td></tr>\n",
       "\t<tr><th scope=row>AT1G24260</th><td>1.0000000</td></tr>\n",
       "\t<tr><th scope=row>AT1G30490</th><td>1.0000000</td></tr>\n",
       "\t<tr><th scope=row>AT1G62360</th><td>1.0000000</td></tr>\n",
       "\t<tr><th scope=row>AT1G69120</th><td>1.0000000</td></tr>\n",
       "\t<tr><th scope=row>AT1G76420</th><td>1.0000000</td></tr>\n",
       "\t<tr><th scope=row>AT1G80100</th><td>1.0000000</td></tr>\n",
       "\t<tr><th scope=row>AT2G17950</th><td>0.9917800</td></tr>\n",
       "\t<tr><th scope=row>AT2G27250</th><td>0.9950412</td></tr>\n",
       "\t<tr><th scope=row>AT2G33860</th><td>0.9999608</td></tr>\n",
       "\t<tr><th scope=row>AT2G34710</th><td>1.0000000</td></tr>\n",
       "\t<tr><th scope=row>AT2G37630</th><td>1.0000000</td></tr>\n",
       "\t<tr><th scope=row>AT2G45190</th><td>1.0000000</td></tr>\n",
       "\t<tr><th scope=row>AT3G15170</th><td>1.0000000</td></tr>\n",
       "\t<tr><th scope=row>AT3G54340</th><td>1.0000000</td></tr>\n",
       "\t<tr><th scope=row>AT4G18960</th><td>0.9988084</td></tr>\n",
       "\t<tr><th scope=row>AT4G21750</th><td>0.9994014</td></tr>\n",
       "\t<tr><th scope=row>AT4G36920</th><td>1.0000000</td></tr>\n",
       "\t<tr><th scope=row>AT4G37750</th><td>1.0000000</td></tr>\n",
       "\t<tr><th scope=row>AT5G20240</th><td>1.0000000</td></tr>\n",
       "\t<tr><th scope=row>AT5G53950</th><td>1.0000000</td></tr>\n",
       "\t<tr><th scope=row>AT5G60690</th><td>1.0000000</td></tr>\n",
       "\t<tr><th scope=row>AT5G61850</th><td>1.0000000</td></tr>\n",
       "</tbody>\n",
       "</table>\n"
      ],
      "text/latex": [
       "A data.frame: 26 × 1\n",
       "\\begin{tabular}{r|l}\n",
       "  & V1\\\\\n",
       "  & <dbl>\\\\\n",
       "\\hline\n",
       "\tx & 1.0000000\\\\\n",
       "\ty & 1.0000000\\\\\n",
       "\tz & 1.0000000\\\\\n",
       "\tAT1G19850 & 1.0000000\\\\\n",
       "\tAT1G24260 & 1.0000000\\\\\n",
       "\tAT1G30490 & 1.0000000\\\\\n",
       "\tAT1G62360 & 1.0000000\\\\\n",
       "\tAT1G69120 & 1.0000000\\\\\n",
       "\tAT1G76420 & 1.0000000\\\\\n",
       "\tAT1G80100 & 1.0000000\\\\\n",
       "\tAT2G17950 & 0.9917800\\\\\n",
       "\tAT2G27250 & 0.9950412\\\\\n",
       "\tAT2G33860 & 0.9999608\\\\\n",
       "\tAT2G34710 & 1.0000000\\\\\n",
       "\tAT2G37630 & 1.0000000\\\\\n",
       "\tAT2G45190 & 1.0000000\\\\\n",
       "\tAT3G15170 & 1.0000000\\\\\n",
       "\tAT3G54340 & 1.0000000\\\\\n",
       "\tAT4G18960 & 0.9988084\\\\\n",
       "\tAT4G21750 & 0.9994014\\\\\n",
       "\tAT4G36920 & 1.0000000\\\\\n",
       "\tAT4G37750 & 1.0000000\\\\\n",
       "\tAT5G20240 & 1.0000000\\\\\n",
       "\tAT5G53950 & 1.0000000\\\\\n",
       "\tAT5G60690 & 1.0000000\\\\\n",
       "\tAT5G61850 & 1.0000000\\\\\n",
       "\\end{tabular}\n"
      ],
      "text/markdown": [
       "\n",
       "A data.frame: 26 × 1\n",
       "\n",
       "| <!--/--> | V1 &lt;dbl&gt; |\n",
       "|---|---|\n",
       "| x | 1.0000000 |\n",
       "| y | 1.0000000 |\n",
       "| z | 1.0000000 |\n",
       "| AT1G19850 | 1.0000000 |\n",
       "| AT1G24260 | 1.0000000 |\n",
       "| AT1G30490 | 1.0000000 |\n",
       "| AT1G62360 | 1.0000000 |\n",
       "| AT1G69120 | 1.0000000 |\n",
       "| AT1G76420 | 1.0000000 |\n",
       "| AT1G80100 | 1.0000000 |\n",
       "| AT2G17950 | 0.9917800 |\n",
       "| AT2G27250 | 0.9950412 |\n",
       "| AT2G33860 | 0.9999608 |\n",
       "| AT2G34710 | 1.0000000 |\n",
       "| AT2G37630 | 1.0000000 |\n",
       "| AT2G45190 | 1.0000000 |\n",
       "| AT3G15170 | 1.0000000 |\n",
       "| AT3G54340 | 1.0000000 |\n",
       "| AT4G18960 | 0.9988084 |\n",
       "| AT4G21750 | 0.9994014 |\n",
       "| AT4G36920 | 1.0000000 |\n",
       "| AT4G37750 | 1.0000000 |\n",
       "| AT5G20240 | 1.0000000 |\n",
       "| AT5G53950 | 1.0000000 |\n",
       "| AT5G60690 | 1.0000000 |\n",
       "| AT5G61850 | 1.0000000 |\n",
       "\n"
      ],
      "text/plain": [
       "          V1       \n",
       "x         1.0000000\n",
       "y         1.0000000\n",
       "z         1.0000000\n",
       "AT1G19850 1.0000000\n",
       "AT1G24260 1.0000000\n",
       "AT1G30490 1.0000000\n",
       "AT1G62360 1.0000000\n",
       "AT1G69120 1.0000000\n",
       "AT1G76420 1.0000000\n",
       "AT1G80100 1.0000000\n",
       "AT2G17950 0.9917800\n",
       "AT2G27250 0.9950412\n",
       "AT2G33860 0.9999608\n",
       "AT2G34710 1.0000000\n",
       "AT2G37630 1.0000000\n",
       "AT2G45190 1.0000000\n",
       "AT3G15170 1.0000000\n",
       "AT3G54340 1.0000000\n",
       "AT4G18960 0.9988084\n",
       "AT4G21750 0.9994014\n",
       "AT4G36920 1.0000000\n",
       "AT4G37750 1.0000000\n",
       "AT5G20240 1.0000000\n",
       "AT5G53950 1.0000000\n",
       "AT5G60690 1.0000000\n",
       "AT5G61850 1.0000000"
      ]
     },
     "metadata": {},
     "output_type": "display_data"
    }
   ],
   "source": [
    "auc"
   ]
  }
 ],
 "metadata": {
  "kernelspec": {
   "display_name": "R",
   "language": "R",
   "name": "ir"
  },
  "language_info": {
   "codemirror_mode": "r",
   "file_extension": ".r",
   "mimetype": "text/x-r-source",
   "name": "R",
   "pygments_lexer": "r",
   "version": "4.2.0"
  }
 },
 "nbformat": 4,
 "nbformat_minor": 5
}
